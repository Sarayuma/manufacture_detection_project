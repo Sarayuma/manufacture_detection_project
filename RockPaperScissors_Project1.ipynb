{
  "nbformat": 4,
  "nbformat_minor": 0,
  "metadata": {
    "colab": {
      "provenance": [],
      "authorship_tag": "ABX9TyNpBsVnCSpSVMSxBXSdTE2u",
      "include_colab_link": true
    },
    "kernelspec": {
      "name": "python3",
      "display_name": "Python 3"
    },
    "language_info": {
      "name": "python"
    }
  },
  "cells": [
    {
      "cell_type": "markdown",
      "metadata": {
        "id": "view-in-github",
        "colab_type": "text"
      },
      "source": [
        "<a href=\"https://colab.research.google.com/github/Seemamaglin/Automative_car_parts_Inspection/blob/master/RockPaperScissors_Project1.ipynb\" target=\"_parent\"><img src=\"https://colab.research.google.com/assets/colab-badge.svg\" alt=\"Open In Colab\"/></a>"
      ]
    },
    {
      "cell_type": "code",
      "execution_count": 2,
      "metadata": {
        "colab": {
          "base_uri": "https://localhost:8080/"
        },
        "id": "zymWIARniHVM",
        "outputId": "57a5a08b-edbd-4152-db13-18d296173d3c"
      },
      "outputs": [
        {
          "output_type": "stream",
          "name": "stdout",
          "text": [
            "Enter the choice: 0 for Rock, 1 for Paper, 2 for Scissors.2\n",
            "Computer choice: 0\n",
            "You lose\n"
          ]
        }
      ],
      "source": [
        "import random\n",
        "user_choice=int(input(\"Enter the choice: 0 for Rock, 1 for Paper, 2 for Scissors.\"))\n",
        "computer_choice=random.randint(0,2)\n",
        "print(\"Computer choice:\",computer_choice)\n",
        "if computer_choice==user_choice:\n",
        "    print(\"Draw\")\n",
        "elif user_choice==0 and computer_choice==1:\n",
        "    print(\"You lose\")\n",
        "elif user_choice==0 and computer_choice==2:\n",
        "    print(\"You win\")\n",
        "elif user_choice==1 and computer_choice==0:\n",
        "    print(\"You win\")\n",
        "elif user_choice==1 and computer_choice==2:\n",
        "    print(\"You lose\")\n",
        "elif user_choice==2 and computer_choice==0:\n",
        "    print(\"You lose\")\n",
        "elif user_choice==2 and computer_choice==1:\n",
        "    print(\"You win\")\n",
        "else:\n",
        "    print(\"Enter valid input\")"
      ]
    }
  ]
}